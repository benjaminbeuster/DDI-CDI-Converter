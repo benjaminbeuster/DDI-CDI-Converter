{
 "cells": [
  {
   "cell_type": "code",
   "execution_count": null,
   "id": "067ce98c-9018-4f4a-b96c-a010acbd7e22",
   "metadata": {},
   "outputs": [],
   "source": [
    "import sys\n",
    "sys.path.append(\"..\")\n",
    "%reload_ext autoreload\n",
    "%autoreload 2\n",
    "import os\n",
    "import pandas as pd\n",
    "import pyreadstat as pyr\n",
    "import json\n",
    "import numpy as np\n",
    "from spss_import import read_sav\n",
    "from lxml import etree\n",
    "from xml_functions import remove_empty_elements, add_cdi_element, add_identifier, add_ddiref\n",
    "pd.set_option('display.max_rows', 2500)\n",
    "pd.set_option('display.max_columns', None)\n",
    "pd.options.mode.chained_assignment = None"
   ]
  },
  {
   "cell_type": "code",
   "execution_count": null,
   "id": "645f1dfc-d9a0-447f-b6c5-262f256f2e1a",
   "metadata": {},
   "outputs": [],
   "source": [
    "#help(pyr.read_sav)"
   ]
  },
  {
   "cell_type": "code",
   "execution_count": null,
   "id": "d3b3ad9d-5958-473e-a2ae-1ad0e9559984",
   "metadata": {},
   "outputs": [],
   "source": [
    "spssfile = f\"files/SPSS_Example2.sav\"\n",
    "df, df_meta = read_sav(spssfile)\n",
    "df.head()"
   ]
  },
  {
   "cell_type": "code",
   "execution_count": null,
   "id": "e58c3503-a165-4626-bd92-532d7e0fd91d",
   "metadata": {},
   "outputs": [],
   "source": [
    "Label = df_meta.column_names_to_labels\n",
    "Values = df_meta.variable_value_labels\n",
    "Missing = df_meta.missing_ranges\n",
    "Format = df_meta.original_variable_types\n",
    "Measure = df_meta.variable_measure"
   ]
  },
  {
   "cell_type": "code",
   "execution_count": null,
   "id": "d79e59ce-62fb-4a29-b3f0-15c892a843d9",
   "metadata": {},
   "outputs": [],
   "source": [
    "# DataStore\n",
    "def generate_DataStore(df_meta):\n",
    "    element = add_cdi_element(root, 'DataStore')\n",
    "    add_cdi_element(element, 'allowsDuplicates', \"false\")\n",
    "    add_identifier(element, f\"#dataStore\")\n",
    "    add_cdi_element(element, 'recordCount', df_meta.number_rows)\n",
    "    LogicalRecord = add_cdi_element(element, 'DataStore_has_LogicalRecord')\n",
    "    add_ddiref(LogicalRecord, f\"#logicalRecord\", agency, \"LogicalRecord\")"
   ]
  },
  {
   "cell_type": "code",
   "execution_count": null,
   "id": "c2000021-48ab-49a1-bcbf-a5734eba7718",
   "metadata": {},
   "outputs": [],
   "source": [
    "# logicalRecord\n",
    "def generate_LogicalRecord(df_meta):\n",
    "    element = add_cdi_element(root, 'LogicalRecord')\n",
    "    add_identifier(element, f\"#logicalRecord\")\n",
    "    LogicalRecord_organizes_DataSet = add_cdi_element(element, 'LogicalRecord_organizes_DataSet')\n",
    "    add_ddiref(LogicalRecord_organizes_DataSet, f\"#wideDataSet\", agency, \"WideDataSet\")\n",
    "    for idx, variable in enumerate(df_meta.column_names):\n",
    "        LogicalRecord_has_InstanceVariable = add_cdi_element(element, 'LogicalRecord_has_InstanceVariable')\n",
    "        add_ddiref(LogicalRecord_has_InstanceVariable, f\"#instanceVariable-{variable}\", agency, \"InstanceVariable\")"
   ]
  },
  {
   "cell_type": "code",
   "execution_count": null,
   "id": "2c359ba4-9d74-4bb7-878c-9f837f8e4530",
   "metadata": {},
   "outputs": [],
   "source": [
    "# WideDataSet\n",
    "def generate_WideDataSet(df_meta):       \n",
    "    element = add_cdi_element(root, 'WideDataSet')\n",
    "    add_identifier(element, f\"#wideDataSet\")\n",
    "    DataSet_isStructuredBy_DataStructure = add_cdi_element(element, 'DataSet_isStructuredBy_DataStructure')\n",
    "    add_ddiref(DataSet_isStructuredBy_DataStructure, f\"#wideDataStructure\", agency, \"WideDataStructure\")"
   ]
  },
  {
   "cell_type": "code",
   "execution_count": null,
   "id": "23c808e7-b752-4749-936f-b87d9f3876d2",
   "metadata": {},
   "outputs": [],
   "source": [
    "# WideDataStructure\n",
    "def generate_WideDataStructure(df_meta):\n",
    "    element = add_cdi_element(root, 'WideDataStructure')\n",
    "    add_identifier(element, f\"#wideDataStructure\")\n",
    "    \n",
    "    DataStructure_has_DataStructureComponent = add_cdi_element(element, 'DataStructure_has_DataStructureComponent')\n",
    "    add_ddiref(DataStructure_has_DataStructureComponent, f\"#identifierComponent-{df_meta.column_names[0]}\", agency, \"IdentifierComponent\")\n",
    "    \n",
    "    for x, variable in enumerate(df_meta.column_names[1:]): \n",
    "        DataStructure_has_DataStructureComponent = add_cdi_element(element, 'DataStructure_has_DataStructureComponent')\n",
    "        add_ddiref(DataStructure_has_DataStructureComponent, f\"#measureComponent-{variable}\", agency, \"MeasureComponent\")\n",
    "\n",
    "    DataStructure_has_PrimaryKey = add_cdi_element(element, 'DataStructure_has_PrimaryKey')\n",
    "    add_ddiref(DataStructure_has_PrimaryKey, f\"#primaryKey\", agency, \"PrimaryKey\")"
   ]
  },
  {
   "cell_type": "code",
   "execution_count": null,
   "id": "0a1f76ce-9c89-45b5-8573-43586aec157d",
   "metadata": {},
   "outputs": [],
   "source": [
    "# IdentifierComponent\n",
    "def generate_IdentifierComponent(df_meta):\n",
    "    element = add_cdi_element(root, 'IdentifierComponent')\n",
    "    add_identifier(element, f\"#identifierComponent-{df_meta.column_names[0]}\")\n",
    "    DataStructureComponent_isDefinedBy_RepresentedVariable = add_cdi_element(element, 'DataStructureComponent_isDefinedBy_RepresentedVariable')\n",
    "    add_ddiref(DataStructureComponent_isDefinedBy_RepresentedVariable, f\"#instanceVariable-{df_meta.column_names[0]}\", agency, \"InstanceVariable\")"
   ]
  },
  {
   "cell_type": "code",
   "execution_count": null,
   "id": "5f94c426-5da5-467f-a1ea-b8ed0c58f3cd",
   "metadata": {},
   "outputs": [],
   "source": [
    "# MeasureComponent\n",
    "def generate_MeasureComponent(df_meta):\n",
    "    for x, variable in enumerate(df_meta.column_names[1:]): \n",
    "        MeasureComponent = add_cdi_element(root, 'MeasureComponent')\n",
    "        add_identifier(MeasureComponent, f\"#measureComponent-{variable}\")\n",
    "        DataStructureComponent_isDefinedBy_RepresentedVariable = add_cdi_element(MeasureComponent, 'DataStructureComponent_isDefinedBy_RepresentedVariable')\n",
    "        add_ddiref(DataStructureComponent_isDefinedBy_RepresentedVariable, f\"#instanceVariable-{df_meta.column_names[0]}\", agency, \"InstanceVariable\")"
   ]
  },
  {
   "cell_type": "code",
   "execution_count": null,
   "id": "c1206280-f9da-42c8-ba62-8ef389c2c9a5",
   "metadata": {},
   "outputs": [],
   "source": [
    "# PrimaryKey\n",
    "def generate_PrimaryKey(df_meta):\n",
    "    element = add_cdi_element(root, 'PrimaryKey')\n",
    "    add_identifier(element, f\"#primaryKey\")\n",
    "    PrimaryKey_isComposedOf_PrimaryKeyComponent = add_cdi_element(element, 'PrimaryKey_isComposedOf_PrimaryKeyComponent')\n",
    "    add_ddiref(PrimaryKey_isComposedOf_PrimaryKeyComponent, f\"#primaryKeyComponent\", agency, \"PrimaryKeyComponent\")"
   ]
  },
  {
   "cell_type": "code",
   "execution_count": null,
   "id": "6c6eefce-0e41-47aa-a29b-f639975f0c9e",
   "metadata": {},
   "outputs": [],
   "source": [
    "# PrimaryKeyComponent\n",
    "def generate_PrimaryKeyComponent(df_meta):\n",
    "    element = add_cdi_element(root, 'PrimaryKeyComponent')\n",
    "    add_identifier(element, f\"#primaryKeyComponent\")\n",
    "    PrimaryKeyComponent_correspondsTo_DataStructureComponent = add_cdi_element(element, 'PrimaryKeyComponent_correspondsTo_DataStructureComponent')\n",
    "    add_ddiref(PrimaryKeyComponent_correspondsTo_DataStructureComponent, f\"#identifierComponent-{df_meta.column_names[0]}\", agency, \"IdentifierComponent\")"
   ]
  },
  {
   "cell_type": "code",
   "execution_count": null,
   "id": "215309e3-3179-4bbe-876c-9bc5d1ead7ca",
   "metadata": {},
   "outputs": [],
   "source": [
    "def generate_InstanceVariable(df_meta):\n",
    "    # Iterate through column names and associated index\n",
    "    for idx, variable in enumerate(df_meta.column_names):\n",
    "        element = add_cdi_element(root, 'InstanceVariable')\n",
    "        displayLabel = add_cdi_element(element, 'displayLabel')\n",
    "        languageSpecificString = add_cdi_element(displayLabel, 'languageSpecificString')\n",
    "        add_cdi_element(languageSpecificString, 'content', f\"{df_meta.column_labels[idx]}\")\n",
    "        add_identifier(element, f\"#instanceVariable-{variable}\")\n",
    "        name = add_cdi_element(element, 'name')\n",
    "        add_cdi_element(name, 'name', f\"{variable}\")\n",
    "        hasIntendedDataType = add_cdi_element(element, 'hasIntendedDataType')\n",
    "        add_cdi_element(hasIntendedDataType, 'name', f\"{df_meta.original_variable_types[variable]}\")\n",
    "\n",
    "        # Check if variable has sentinel concepts\n",
    "        if variable in df_meta.missing_ranges or (len(df_meta.missing_ranges) == 0 and variable in df_meta.missing_user_values):\n",
    "            RepresentedVariable_takesSentinelValuesFrom_SentinelValueDomain = add_cdi_element(element, 'RepresentedVariable_takesSentinelValuesFrom_SentinelValueDomain')\n",
    "            add_ddiref(RepresentedVariable_takesSentinelValuesFrom_SentinelValueDomain, f\"#sentinelValueDomain-{variable}\", agency, \"SentinelValueDomain\")\n",
    "        RepresentedVariable_takesSubstantiveValuesFrom_SubstantiveValueDomain = add_cdi_element(element, 'RepresentedVariable_takesSubstantiveValuesFrom_SubstantiveValueDomain')\n",
    "        add_ddiref(RepresentedVariable_takesSubstantiveValuesFrom_SubstantiveValueDomain, f\"#substantiveValueDomain-{variable}\", agency, 'SubstantiveValueDomain')"
   ]
  },
  {
   "cell_type": "code",
   "execution_count": null,
   "id": "6b7770ff-0d64-46d1-9a62-07ca85c1c488",
   "metadata": {},
   "outputs": [],
   "source": [
    "# SubstantiveValueDomain\n",
    "def generate_SubstantiveValueDomain(df_meta):\n",
    "    for var in df_meta.column_names:\n",
    "        element = add_cdi_element(root, 'SubstantiveValueDomain')\n",
    "        add_identifier(element, f\"#substantiveValueDomain-{var}\")\n",
    "        if var in df_meta.variable_value_labels:\n",
    "            SubstantiveValueDomain_takesValuesFrom_EnumerationDomain = add_cdi_element(element, 'SubstantiveValueDomain_takesValuesFrom_EnumerationDomain')\n",
    "            add_ddiref(SubstantiveValueDomain_takesValuesFrom_EnumerationDomain, f\"#substantiveCodelist-{var}\", agency, 'CodeList')\n",
    "        SubstantiveValueDomain_isDescribedBy_ValueAndConceptDescription = add_cdi_element(element, 'SubstantiveValueDomain_isDescribedBy_ValueAndConceptDescription')\n",
    "        add_ddiref(SubstantiveValueDomain_isDescribedBy_ValueAndConceptDescription, f\"#substantiveValueAndConceptDescription-{var}\", agency, \"ValueAndConceptDescription\")\n"
   ]
  },
  {
   "cell_type": "code",
   "execution_count": null,
   "id": "7d98451f-a45b-477e-8ded-e2b92bb88c30",
   "metadata": {},
   "outputs": [],
   "source": [
    "# SubstantiveCodeList\n",
    "def generate_CodeList(df_meta):\n",
    "    # Determine the relevant variables based on the presence of missing values\n",
    "    relevant_variables = df_meta.missing_ranges if len(df_meta.missing_ranges) > 0 else df_meta.missing_user_values\n",
    "\n",
    "    for variable_name, values_dict in df_meta.variable_value_labels.items():\n",
    "        element = add_cdi_element(root, 'CodeList')\n",
    "        add_identifier(element, f\"#substantiveCodelist-{variable_name}\")\n",
    "\n",
    "        name = add_cdi_element(element, 'name')\n",
    "        add_cdi_element(name, 'name', f\"#substantiveCodelist-{variable_name}\")\n",
    "        \n",
    "        add_cdi_element(element, 'allowsDuplicates', \"false\")\n",
    "\n",
    "        excluded_values = set()\n",
    "\n",
    "        # Check if variable_name is in relevant_variables\n",
    "        if variable_name in relevant_variables:\n",
    "\n",
    "            # If the relevant variable data is based on ranges and contains dictionaries\n",
    "            if isinstance(relevant_variables[variable_name], list) and all(\n",
    "                    isinstance(item, dict) for item in relevant_variables[variable_name]):\n",
    "                for dict_range in relevant_variables[variable_name]:\n",
    "                    lo_is_numeric = isinstance(dict_range['lo'], (int, float)) or (\n",
    "                            isinstance(dict_range['lo'], str) and dict_range['lo'].isnumeric()\n",
    "                    )\n",
    "                    hi_is_numeric = isinstance(dict_range['hi'], (int, float)) or (\n",
    "                            isinstance(dict_range['hi'], str) and dict_range['hi'].isnumeric()\n",
    "                    )\n",
    "\n",
    "                    if lo_is_numeric and hi_is_numeric:\n",
    "                        excluded_values.update(\n",
    "                            range(int(float(dict_range['lo'])), int(float(dict_range['hi'])) + 1)\n",
    "                        )\n",
    "                    elif isinstance(dict_range['lo'], str):\n",
    "                        excluded_values.add(dict_range['lo'])\n",
    "                    else:\n",
    "                        print(f\"Warning: Unsupported 'lo' value: {dict_range['lo']}\")\n",
    "\n",
    "            # If the relevant variable data contains strings (user-defined missing values)\n",
    "            elif isinstance(relevant_variables[variable_name], list):\n",
    "                excluded_values.update(set(map(str, relevant_variables[variable_name])))\n",
    "\n",
    "        # Use list comprehension to generate the hasTopConcept list\n",
    "        has_top_concept = []\n",
    "        for value in values_dict.keys():\n",
    "            excluded_values_str = {str(i) for i in excluded_values}\n",
    "            if (not value in excluded_values) and (not str(value) in excluded_values_str) :\n",
    "                CodeList_has_Code = add_cdi_element(element, 'CodeList_has_Code')\n",
    "                add_ddiref(CodeList_has_Code, f\"#code-{value}-{variable_name}\", agency, \"Code\")"
   ]
  },
  {
   "cell_type": "code",
   "execution_count": null,
   "id": "9e9f0ece-6444-423a-b1f4-13bcca3a18e8",
   "metadata": {},
   "outputs": [],
   "source": [
    "# Code\n",
    "def generate_Code(df_meta):\n",
    "    for variable_name, values_dict in df_meta.variable_value_labels.items():\n",
    "        for key, value in values_dict.items():\n",
    "            element = add_cdi_element(root, 'Code')\n",
    "            add_identifier(element, f\"#code-{key}-{variable_name}\")\n",
    "            Code_denotes_Category = add_cdi_element(element, 'Code_denotes_Category')\n",
    "            add_ddiref(Code_denotes_Category, f\"#category-{value}\", agency, \"Category\")\n",
    "            Code_uses_Notation = add_cdi_element(element, 'Code_uses_Notation')\n",
    "            add_ddiref(Code_uses_Notation, f\"#notation-{key}\", agency, \"Notation\")"
   ]
  },
  {
   "cell_type": "code",
   "execution_count": null,
   "id": "a9cc88a3-50b7-485f-ae82-f870a44b84a3",
   "metadata": {},
   "outputs": [],
   "source": [
    "# Category and Notation\n",
    "def generate_Category_Notation(df_meta):\n",
    "    notations = list(set(key for values_dict in df_meta.variable_value_labels.values() for key in values_dict.keys()))\n",
    "    cats = list(set(value for values_dict in df_meta.variable_value_labels.values() for value in values_dict.values()))\n",
    "    \n",
    "    for cat in cats:\n",
    "        element = add_cdi_element(root, 'Category')\n",
    "        displayLabel = add_cdi_element(element, 'displayLabel')\n",
    "        languageSpecificString = add_cdi_element(displayLabel, 'languageSpecificString')\n",
    "        add_cdi_element(languageSpecificString, 'content', f\"{cat}\")\n",
    "        add_identifier(element, f\"#category-{cat}\")\n",
    "        name = add_cdi_element(element, 'name')\n",
    "        add_cdi_element(name, 'name', f\"{cat}\")\n",
    "\n",
    "    for note in notations:\n",
    "        element = add_cdi_element(root, 'Notation')\n",
    "        content = add_cdi_element(element, 'content')\n",
    "        add_cdi_element(content, 'content', f\"{note}\")\n",
    "        add_identifier(element, f\"#notation-{note}\")"
   ]
  },
  {
   "cell_type": "code",
   "execution_count": null,
   "id": "fb280b6e-3c3b-4710-9dd3-f88a3c1533e8",
   "metadata": {},
   "outputs": [],
   "source": [
    "\n",
    "# ValueAndConceptDescription\n",
    "def generate_ValueAndConceptDescription(df_meta):\n",
    "\n",
    "    \n",
    "    # Determine the relevant variables based on the presence of missing values\n",
    "    relevant_variables = {}\n",
    "    if df_meta.missing_ranges:\n",
    "        relevant_variables = df_meta.missing_ranges\n",
    "    elif df_meta.missing_user_values:\n",
    "        relevant_variables = df_meta.missing_user_values\n",
    "\n",
    "    json_ld_data = []\n",
    "\n",
    "    # recode classification level\n",
    "    class_level = {'nominal': 'Nominal', 'scale': 'Continuous', 'ordinal': 'Ordinal'}\n",
    "    for variable in df_meta.column_names:\n",
    "        element = add_cdi_element(root, 'ValueAndConceptDescription')\n",
    "        add_cdi_element(element, 'classificationLevel', f\"{class_level[df_meta.variable_measure[variable]]}\")\n",
    "        add_identifier(element, f\"#substantiveValueAndConceptDescription-{variable}\")\n",
    "\n",
    "        # Add sentinelValueAndConceptDescription only if the condition is met\n",
    "        if variable in relevant_variables:\n",
    "            values = relevant_variables[variable]\n",
    "            if isinstance(values[0], dict):  # Check if the values are dictionaries\n",
    "                all_lo_values = [d['lo'] for d in values]\n",
    "                all_hi_values = [d['hi'] for d in values]\n",
    "                min_val = min(all_lo_values)\n",
    "                max_val = max(all_hi_values)\n",
    "            else:\n",
    "                min_val, max_val = min(values), max(values)\n",
    "        \n",
    "            element = add_cdi_element(root, 'ValueAndConceptDescription')\n",
    "            description = add_cdi_element(element, 'description')\n",
    "            languageSpecificString = add_cdi_element(description, 'languageSpecificString')\n",
    "            add_cdi_element(languageSpecificString, 'content', str(values))\n",
    "            add_identifier(element, f\"#sentinelValueAndConceptDescription-{variable}\")\n",
    "            add_cdi_element(element, \"maximumValueExclusive\", str(max_val))\n",
    "            add_cdi_element(element, \"minimumValueExclusive\", str(min_val))\n",
    "\n",
    "            json_ld_data.append({\n",
    "                \"@id\": f\"#sentinelValueAndConceptDescription-{variable}\",\n",
    "                \"@type\": \"ValueAndConceptDescription\",\n",
    "                \"description\": str(values),\n",
    "                \"minimumValueExclusive\": str(min_val),\n",
    "                \"maximumValueExclusive\": str(max_val),\n",
    "            })\n"
   ]
  },
  {
   "cell_type": "code",
   "execution_count": null,
   "id": "44ff4aa5-d112-4fb0-b64b-7bd6601c7c2c",
   "metadata": {},
   "outputs": [],
   "source": [
    "# Define the namespace\n",
    "nsmap = {'cdi': 'http://ddialliance.org/Specification/DDI-CDI/1.0/XMLSchema/'}\n",
    "# Create the root element\n",
    "root = etree.Element(etree.QName(nsmap['cdi'], 'DDICDIModels'), nsmap=nsmap)\n",
    "root.set('{http://www.w3.org/2001/XMLSchema-instance}schemaLocation',\n",
    "         'http://ddialliance.org/Specification/DDI-CDI/1.0/XMLSchema/ https://ddi-cdi-resources.bitbucket.io/2023-11-12/encoding/xml-schema/ddi-cdi.xsd')\n",
    "agency='int.esseric'"
   ]
  },
  {
   "cell_type": "code",
   "execution_count": null,
   "id": "acc82dcb-6948-4fe1-9309-30f763ce64ef",
   "metadata": {},
   "outputs": [],
   "source": [
    "generate_DataStore(df_meta)\n",
    "generate_LogicalRecord(df_meta)\n",
    "generate_WideDataSet(df_meta)\n",
    "generate_WideDataStructure(df_meta)\n",
    "generate_IdentifierComponent(df_meta)\n",
    "generate_MeasureComponent(df_meta)\n",
    "generate_PrimaryKey(df_meta)\n",
    "generate_PrimaryKeyComponent(df_meta)\n",
    "generate_InstanceVariable(df_meta)\n",
    "generate_SubstantiveValueDomain(df_meta)\n",
    "generate_ValueAndConceptDescription(df_meta)\n",
    "generate_CodeList(df_meta)\n",
    "generate_Code(df_meta)\n",
    "generate_Category_Notation(df_meta)"
   ]
  },
  {
   "cell_type": "code",
   "execution_count": null,
   "id": "8c352cab-b318-4b85-8df0-ecd24edefb3b",
   "metadata": {},
   "outputs": [],
   "source": [
    "# Add XML declaration and write XML file\n",
    "xml_string = etree.tostring(root, encoding='UTF-8', xml_declaration=True, pretty_print=True)\n",
    "\n",
    "# Add the comment as the second line\n",
    "xml_string_with_comment = xml_string.replace(b'?>', b'?>\\n<!-- CDI, version 1, 2024.01.20 -->', 1)\n",
    "\n",
    "with open(r'files/CDI.xml', 'wb') as f:\n",
    "    f.write(xml_string_with_comment)"
   ]
  },
  {
   "cell_type": "code",
   "execution_count": null,
   "id": "36567b79-a57f-4c69-971c-187d2b742f4c",
   "metadata": {},
   "outputs": [],
   "source": []
  },
  {
   "cell_type": "code",
   "execution_count": null,
   "id": "cb95111a-a400-443e-8154-000a158a9703",
   "metadata": {},
   "outputs": [],
   "source": []
  },
  {
   "cell_type": "markdown",
   "id": "9f29306f-faec-430f-880b-dd69375054ba",
   "metadata": {},
   "source": [
    "##### "
   ]
  }
 ],
 "metadata": {
  "kernelspec": {
   "display_name": "Python 3 (ipykernel)",
   "language": "python",
   "name": "python3"
  },
  "language_info": {
   "codemirror_mode": {
    "name": "ipython",
    "version": 3
   },
   "file_extension": ".py",
   "mimetype": "text/x-python",
   "name": "python",
   "nbconvert_exporter": "python",
   "pygments_lexer": "ipython3",
   "version": "3.9.13"
  }
 },
 "nbformat": 4,
 "nbformat_minor": 5
}
