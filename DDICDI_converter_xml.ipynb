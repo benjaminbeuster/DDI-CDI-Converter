{
 "cells": [
  {
   "cell_type": "code",
   "execution_count": 55,
   "id": "067ce98c-9018-4f4a-b96c-a010acbd7e22",
   "metadata": {},
   "outputs": [],
   "source": [
    "import sys\n",
    "sys.path.append(\"..\")\n",
    "%reload_ext autoreload\n",
    "%autoreload 2\n",
    "import os\n",
    "import pandas as pd\n",
    "import pyreadstat as pyr\n",
    "import json\n",
    "import numpy as np\n",
    "from spss_import import read_sav \n",
    "pd.set_option('display.max_rows', 2500)\n",
    "pd.set_option('display.max_columns', None)\n",
    "pd.options.mode.chained_assignment = None"
   ]
  },
  {
   "cell_type": "code",
   "execution_count": 56,
   "id": "645f1dfc-d9a0-447f-b6c5-262f256f2e1a",
   "metadata": {},
   "outputs": [],
   "source": [
    "#help(pyr.read_sav)"
   ]
  },
  {
   "cell_type": "code",
   "execution_count": 57,
   "id": "d3b3ad9d-5958-473e-a2ae-1ad0e9559984",
   "metadata": {},
   "outputs": [
    {
     "data": {
      "text/html": [
       "<div>\n",
       "<style scoped>\n",
       "    .dataframe tbody tr th:only-of-type {\n",
       "        vertical-align: middle;\n",
       "    }\n",
       "\n",
       "    .dataframe tbody tr th {\n",
       "        vertical-align: top;\n",
       "    }\n",
       "\n",
       "    .dataframe thead th {\n",
       "        text-align: right;\n",
       "    }\n",
       "</style>\n",
       "<table border=\"1\" class=\"dataframe\">\n",
       "  <thead>\n",
       "    <tr style=\"text-align: right;\">\n",
       "      <th></th>\n",
       "      <th>RID</th>\n",
       "      <th>MARST</th>\n",
       "      <th>PWT</th>\n",
       "      <th>testvar</th>\n",
       "    </tr>\n",
       "  </thead>\n",
       "  <tbody>\n",
       "    <tr>\n",
       "      <th>0</th>\n",
       "      <td>10000001</td>\n",
       "      <td>3</td>\n",
       "      <td>537</td>\n",
       "      <td>1</td>\n",
       "    </tr>\n",
       "    <tr>\n",
       "      <th>1</th>\n",
       "      <td>10000002</td>\n",
       "      <td>1</td>\n",
       "      <td>231</td>\n",
       "      <td>1</td>\n",
       "    </tr>\n",
       "    <tr>\n",
       "      <th>2</th>\n",
       "      <td>10000003</td>\n",
       "      <td>2</td>\n",
       "      <td>599</td>\n",
       "      <td>1</td>\n",
       "    </tr>\n",
       "    <tr>\n",
       "      <th>3</th>\n",
       "      <td>10000004</td>\n",
       "      <td>1</td>\n",
       "      <td>4003</td>\n",
       "      <td>7</td>\n",
       "    </tr>\n",
       "    <tr>\n",
       "      <th>4</th>\n",
       "      <td>10000005</td>\n",
       "      <td>4</td>\n",
       "      <td>598</td>\n",
       "      <td>8</td>\n",
       "    </tr>\n",
       "  </tbody>\n",
       "</table>\n",
       "</div>"
      ],
      "text/plain": [
       "        RID  MARST   PWT testvar\n",
       "0  10000001      3   537       1\n",
       "1  10000002      1   231       1\n",
       "2  10000003      2   599       1\n",
       "3  10000004      1  4003       7\n",
       "4  10000005      4   598       8"
      ]
     },
     "execution_count": 57,
     "metadata": {},
     "output_type": "execute_result"
    }
   ],
   "source": [
    "spssfile = f\"files/SPSS_Example2.sav\"\n",
    "df, df_meta = read_sav(spssfile)\n",
    "df.head()"
   ]
  },
  {
   "cell_type": "code",
   "execution_count": 58,
   "id": "e58c3503-a165-4626-bd92-532d7e0fd91d",
   "metadata": {},
   "outputs": [],
   "source": [
    "Label = df_meta.column_names_to_labels\n",
    "Values = df_meta.variable_value_labels\n",
    "Missing = df_meta.missing_ranges\n",
    "Format = df_meta.original_variable_types\n",
    "Measure = df_meta.variable_measure"
   ]
  },
  {
   "cell_type": "code",
   "execution_count": 59,
   "id": "44ff4aa5-d112-4fb0-b64b-7bd6601c7c2c",
   "metadata": {},
   "outputs": [],
   "source": [
    "from lxml import etree\n",
    "from xml_functions import remove_empty_elements, add_cdi_element, add_identifier, add_ddiref\n",
    "\n",
    "# Define the namespace\n",
    "nsmap = {'cdi': 'http://ddialliance.org/Specification/DDI-CDI/1.0/XMLSchema/'}\n",
    "# Create the root element\n",
    "root = etree.Element(etree.QName(nsmap['cdi'], 'DDICDIModels'), nsmap=nsmap)\n",
    "root.set('{http://www.w3.org/2001/XMLSchema-instance}schemaLocation',\n",
    "         'http://ddialliance.org/Specification/DDI-CDI/1.0/XMLSchema/ https://ddi-cdi-resources.bitbucket.io/2023-11-12/encoding/xml-schema/ddi-cdi.xsd')\n",
    "agency='int.esseric'"
   ]
  },
  {
   "cell_type": "code",
   "execution_count": 60,
   "id": "d79e59ce-62fb-4a29-b3f0-15c892a843d9",
   "metadata": {},
   "outputs": [],
   "source": [
    "# DataStore\n",
    "def generate_DataStore(df_meta):\n",
    "    element = add_cdi_element(root, 'DataStore')\n",
    "    add_cdi_element(element, 'allowsDuplicates', \"false\")\n",
    "    add_identifier(element, f\"#DataStore\")\n",
    "    add_cdi_element(element, 'recordCount', df_meta.number_rows)\n",
    "    LogicalRecord = add_cdi_element(element, 'DataStore_has_LogicalRecord')\n",
    "    add_ddiref(LogicalRecord, f\"#LogicalRecord\", agency, \"LogicalRecord\")"
   ]
  },
  {
   "cell_type": "code",
   "execution_count": 61,
   "id": "c2000021-48ab-49a1-bcbf-a5734eba7718",
   "metadata": {},
   "outputs": [],
   "source": [
    "# logicalRecord\n",
    "def generate_LogicalRecord(df_meta):\n",
    "    element = add_cdi_element(root, 'LogicalRecord')\n",
    "    add_identifier(element, f\"#LogicalRecord\")\n",
    "    LogicalRecord_organizes_DataSet = add_cdi_element(element, 'LogicalRecord_organizes_DataSet')\n",
    "    add_ddiref(LogicalRecord_organizes_DataSet, f\"#WideDataSet\", agency, \"WideDataSet\")\n",
    "    for idx, variable in enumerate(df_meta.column_names):\n",
    "        LogicalRecord_has_InstanceVariable = add_cdi_element(element, 'LogicalRecord_has_InstanceVariable')\n",
    "        add_ddiref(LogicalRecord_has_InstanceVariable, f\"#InstanceVariable-{variable}\", agency, \"InstanceVariable\")"
   ]
  },
  {
   "cell_type": "code",
   "execution_count": 62,
   "id": "2c359ba4-9d74-4bb7-878c-9f837f8e4530",
   "metadata": {},
   "outputs": [],
   "source": [
    "# WideDataSet\n",
    "def generate_WideDataSet(df_meta):       \n",
    "    element = add_cdi_element(root, 'WideDataSet')\n",
    "    add_identifier(element, f\"#WideDataSet\")\n",
    "    DataSet_isStructuredBy_DataStructure = add_cdi_element(element, 'DataSet_isStructuredBy_DataStructure')\n",
    "    add_ddiref(DataSet_isStructuredBy_DataStructure, f\"#WideDataStructure\", agency, \"WideDataStructure\")\n",
    "\n",
    "    \n",
    "    json_ld_data = []\n",
    "    elements = {\n",
    "        \"@id\": f\"#wideDataSet\",\n",
    "        \"@type\": \"WideDataSet\",\n",
    "        \"isStructuredBy\": \"#wideDataStructure\"\n",
    "    }\n"
   ]
  },
  {
   "cell_type": "code",
   "execution_count": 63,
   "id": "215309e3-3179-4bbe-876c-9bc5d1ead7ca",
   "metadata": {},
   "outputs": [],
   "source": [
    "def generate_InstanceVariable_xml(df_meta):\n",
    "    # Iterate through column names and associated index\n",
    "    for idx, variable in enumerate(df_meta.column_names):\n",
    "        element = add_cdi_element(root, 'InstanceVariable')\n",
    "        displayLabel = add_cdi_element(element, 'displayLabel')\n",
    "        languageSpecificString = add_cdi_element(displayLabel, 'languageSpecificString')\n",
    "        add_cdi_element(languageSpecificString, 'content', f\"{df_meta.column_labels[idx]}\")\n",
    "        add_identifier(element, f\"#InstanceVariable-{variable}\")\n",
    "        name = add_cdi_element(element, 'name')\n",
    "        add_cdi_element(name, 'name', f\"{variable}\")\n",
    "        hasIntendedDataType = add_cdi_element(element, 'hasIntendedDataType')\n",
    "        add_cdi_element(hasIntendedDataType, 'name', f\"{df_meta.original_variable_types[variable]}\")\n",
    "\n",
    "        # Check if variable has sentinel concepts\n",
    "        if variable in df_meta.missing_ranges or (len(df_meta.missing_ranges) == 0 and variable in df_meta.missing_user_values):\n",
    "            RepresentedVariable_takesSentinelValuesFrom_SentinelValueDomain = add_cdi_element(element, 'RepresentedVariable_takesSentinelValuesFrom_SentinelValueDomain')\n",
    "            add_ddiref(RepresentedVariable_takesSentinelValuesFrom_SentinelValueDomain, f\"#SentinelValueDomain-{variable}\", agency, \"SentinelValueDomain\")\n",
    "        RepresentedVariable_takesSubstantiveValuesFrom_SubstantiveValueDomain = add_cdi_element(element, 'RepresentedVariable_takesSubstantiveValuesFrom_SubstantiveValueDomain')\n",
    "        add_ddiref(RepresentedVariable_takesSubstantiveValuesFrom_SubstantiveValueDomain, f\"#substantiveValueDomain-{variable}\", agency, 'SubstantiveValueDomain')"
   ]
  },
  {
   "cell_type": "code",
   "execution_count": 64,
   "id": "acc82dcb-6948-4fe1-9309-30f763ce64ef",
   "metadata": {},
   "outputs": [],
   "source": [
    "generate_DataStore(df_meta)\n",
    "generate_LogicalRecord(df_meta)\n",
    "generate_WideDataSet(df_meta)\n",
    "generate_InstanceVariable_xml(df_meta)"
   ]
  },
  {
   "cell_type": "code",
   "execution_count": 65,
   "id": "8c352cab-b318-4b85-8df0-ecd24edefb3b",
   "metadata": {},
   "outputs": [],
   "source": [
    "# Add XML declaration and write XML file\n",
    "xml_string = etree.tostring(root, encoding='UTF-8', xml_declaration=True, pretty_print=True)\n",
    "\n",
    "# Add the comment as the second line\n",
    "xml_string_with_comment = xml_string.replace(b'?>', b'?>\\n<!-- CDI, version 1, 2024.01.20 -->', 1)\n",
    "\n",
    "with open(r'files/CDI.xml', 'wb') as f:\n",
    "    f.write(xml_string_with_comment)"
   ]
  },
  {
   "cell_type": "code",
   "execution_count": null,
   "id": "36567b79-a57f-4c69-971c-187d2b742f4c",
   "metadata": {},
   "outputs": [],
   "source": []
  },
  {
   "cell_type": "code",
   "execution_count": null,
   "id": "cb95111a-a400-443e-8154-000a158a9703",
   "metadata": {},
   "outputs": [],
   "source": []
  },
  {
   "cell_type": "markdown",
   "id": "9f29306f-faec-430f-880b-dd69375054ba",
   "metadata": {},
   "source": [
    "##### "
   ]
  }
 ],
 "metadata": {
  "kernelspec": {
   "display_name": "Python 3 (ipykernel)",
   "language": "python",
   "name": "python3"
  },
  "language_info": {
   "codemirror_mode": {
    "name": "ipython",
    "version": 3
   },
   "file_extension": ".py",
   "mimetype": "text/x-python",
   "name": "python",
   "nbconvert_exporter": "python",
   "pygments_lexer": "ipython3",
   "version": "3.9.13"
  }
 },
 "nbformat": 4,
 "nbformat_minor": 5
}
